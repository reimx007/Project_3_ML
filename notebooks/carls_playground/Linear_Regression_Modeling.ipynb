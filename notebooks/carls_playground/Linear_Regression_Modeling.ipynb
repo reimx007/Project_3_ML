{
 "cells": [
  {
   "cell_type": "code",
   "execution_count": null,
   "metadata": {},
   "outputs": [],
   "source": [
    "import os\n",
    "import csv\n",
    "import pandas as pd\n",
    "import numpy as np\n",
    "import matplotlib.pyplot as plt"
   ]
  },
  {
   "cell_type": "code",
   "execution_count": null,
   "metadata": {},
   "outputs": [],
   "source": [
    "df = pd.read_csv(\"../../data/CLEANED_SFHS_byState.csv\")\n",
    "df.head()"
   ]
  },
  {
   "cell_type": "code",
   "execution_count": null,
   "metadata": {},
   "outputs": [],
   "source": [
    "df.columns"
   ]
  },
  {
   "cell_type": "code",
   "execution_count": null,
   "metadata": {},
   "outputs": [],
   "source": [
    "df['Unnamed: 0']"
   ]
  },
  {
   "cell_type": "code",
   "execution_count": null,
   "metadata": {},
   "outputs": [],
   "source": [
    "# date = df['Unnamed: 0']\n",
    "df['year'] = df['Unnamed: 0'].str[-4:]\n",
    "df['month'] = df['Unnamed: 0'].str[0:2] +''\n",
    "df['month']=df['month'].str.replace('/','')\n",
    "df['date'] =  df[\"year\"] + '00'\n",
    "df['date'] = pd.to_numeric(df['date']) + pd.to_numeric(df['month'])\n",
    "df.drop(columns=['month'])\n",
    "df.to_csv(\"../../data/CLEANED_National_SFHS_CR_edits.csv\")\n",
    "df.head(12)\n"
   ]
  },
  {
   "cell_type": "code",
   "execution_count": null,
   "metadata": {},
   "outputs": [],
   "source": [
    "states = []\n",
    "for col in df.columns:\n",
    "    states.append(col)\n",
    "states.remove('month') \n",
    "states.remove('year')\n",
    "states.remove('date')\n",
    "states.remove('Unnamed: 0')  \n",
    "print(states)"
   ]
  },
  {
   "cell_type": "code",
   "execution_count": null,
   "metadata": {},
   "outputs": [],
   "source": [
    "from sklearn.linear_model import LinearRegression\n",
    "model = LinearRegression()\n",
    "model"
   ]
  },
  {
   "cell_type": "code",
   "execution_count": null,
   "metadata": {},
   "outputs": [],
   "source": [
    "x = df[['Alaska']]\n",
    "y = df['date'].values.reshape(-1, 1)\n",
    "\n",
    "# print(x)\n",
    "# print(y)\n",
    "model.fit(x, y)\n",
    "print(model)"
   ]
  },
  {
   "cell_type": "code",
   "execution_count": null,
   "metadata": {},
   "outputs": [],
   "source": [
    "predictions = model.predict(x)\n",
    "\n",
    "for state in states:\n",
    "    x = df[[state]]\n",
    "    y = df['date'].values.reshape(-1, 1)\n",
    "    model.fit(x, y)\n",
    "    predictions = model.predict(x)\n",
    "    print(f\"{state} true output: {y[-1]}\")\n",
    "    print(f\"{state} predicted output: {predictions[-1]}\")\n",
    "    print(f\"{state} prediction Error: {predictions[-1]-y[-1]}\")\n",
    "    "
   ]
  },
  {
   "cell_type": "code",
   "execution_count": null,
   "metadata": {},
   "outputs": [],
   "source": []
  }
 ],
 "metadata": {
  "kernelspec": {
   "display_name": "PythonData",
   "language": "python",
   "name": "pythondata"
  },
  "language_info": {
   "codemirror_mode": {
    "name": "ipython",
    "version": 3
   },
   "file_extension": ".py",
   "mimetype": "text/x-python",
   "name": "python",
   "nbconvert_exporter": "python",
   "pygments_lexer": "ipython3",
   "version": "3.7.6"
  }
 },
 "nbformat": 4,
 "nbformat_minor": 4
}
