{
 "cells": [
  {
   "cell_type": "code",
   "execution_count": null,
   "metadata": {},
   "outputs": [],
   "source": [
    "%matplotlib inline\n",
    "import matplotlib.pyplot as plt\n",
    "import numpy as np\n",
    "import pandas as pd"
   ]
  },
  {
   "cell_type": "code",
   "execution_count": null,
   "metadata": {},
   "outputs": [],
   "source": [
    "# Read the csv file into a pandas DataFrame\n",
    "\n",
    "mdf = pd.read_csv('../../data/CLEANED_merged_state_pop_msfhs.csv')\n",
    "# drop states without complete data\n",
    "mdf = mdf.dropna()\n",
    "mdf.head()"
   ]
  },
  {
   "cell_type": "code",
   "execution_count": null,
   "metadata": {},
   "outputs": [],
   "source": [
    "# create a list of available states\n",
    "state_list = mdf['State'].tolist()\n",
    "print(state_list)\n",
    "print(len(state_list))"
   ]
  },
  {
   "cell_type": "code",
   "execution_count": null,
   "metadata": {},
   "outputs": [],
   "source": [
    "# create model\n",
    "from sklearn.linear_model import LinearRegression\n",
    "model = LinearRegression()"
   ]
  },
  {
   "cell_type": "code",
   "execution_count": null,
   "metadata": {},
   "outputs": [],
   "source": [
    "\n",
    "# create empty list to hold outputs\n",
    "list_prediction_lists = []\n",
    "\n",
    "# for loop goes through each row (state) to format data\n",
    "for state in state_list:\n",
    "    # gets each state's row\n",
    "    st_df = mdf.loc[mdf['State'] == state ]\n",
    "    # creates df for percent pop change\n",
    "    pop_change = st_df[['PercentPopChg_96', 'PercentPopChg_97', 'PercentPopChg_98', 'PercentPopChg_99', 'PercentPopChg_2000',\n",
    "                   'PercentPopChg_2001', 'PercentPopChg_2002', 'PercentPopChg_2003', 'PercentPopChg_2004', 'PercentPopChg_2005',\n",
    "                   'PercentPopChg_2006', 'PercentPopChg_2007', 'PercentPopChg_2009', 'PercentPopChg_2010', 'PercentPopChg_2011', \n",
    "                   'PercentPopChg_2012', 'PercentPopChg_2013', 'PercentPopChg_2014', 'PercentPopChg_2015', 'PercentPopChg_2016', \n",
    "                   'PercentPopChg_2017', 'PercentPopChg_2018','PercentPopChg_2019' ]]\n",
    "    # creates df for median home sales\n",
    "    mh = st_df[['1996', '1997', '1998', '1999', '2000',\n",
    "                   '2001', '2002', '2003', '2004', '2005',\n",
    "                   '2006', '2007', '2009', '2010', '2011', \n",
    "                   '2012', '2013', '2014', '2015', '2016', \n",
    "                   '2017', '2018', '2019']]\n",
    "    \n",
    "    # creates list with incremental changes to use as years\n",
    "    index_list = list(range(1, 24))\n",
    "    # create list for pop change\n",
    "    pop_change_clean = pop_change.iloc[0].tolist()\n",
    "    # get average pop change\n",
    "    avg_pop_change = np.mean(pop_change_clean)\n",
    "#     print(avg_pop_change)\n",
    "#     print(pop_change_clean)\n",
    "    # get list for median home sales\n",
    "    mh_list = mh.iloc[0].tolist()\n",
    "#     print(mh_list)\n",
    "#     print(index_list)\n",
    "    \n",
    "    # creates df of data for each state\n",
    "    model_df = pd.DataFrame({\"Index\": index_list, \n",
    "                               \"Median_home\": mh_list,\n",
    "                               \"Pop_Change\": pop_change_clean})\n",
    "    # get list of years to predict. Last value is 2019, so we starte with 2020\n",
    "    prediction_year = [max(model_df['Index'])+1, max(model_df['Index'])+2, max(model_df['Index'])+3, max(model_df['Index'])+4]\n",
    "    # create list to hold predictions, state and r2\n",
    "    prediction_list = []\n",
    "    # append state name\n",
    "    prediction_list.append(state)\n",
    "    # list to hold r2 values (all r2 values are the same for each state)\n",
    "    score_list = []\n",
    "    # calculate prediction for each year\n",
    "    for year in prediction_year:\n",
    "        # set up model and fit to state's df  \n",
    "        x = model_df[[\"Index\", \"Pop_Change\"]]\n",
    "        y = model_df[\"Median_home\"].values.reshape(-1, 1)\n",
    "        model.fit(x, y)\n",
    "        # get r2\n",
    "        score = model.score(x, y)\n",
    "        # get prediction for each year using the average pop change\n",
    "        prediction = model.predict([[year, avg_pop_change]])\n",
    "        # append predition and score to list\n",
    "        prediction_list.append(int(round(prediction[0][0])))\n",
    "        score_list.append(round(model.score(x, y),3))\n",
    "#     print(prediction_list)\n",
    "#     print(score_list)\n",
    "    \n",
    "    # append score to prediction list and append list to master list\n",
    "    prediction_list.append(score_list[0])\n",
    "    list_prediction_lists.append(prediction_list)\n",
    "\n",
    "    \n",
    "# print(list_prediction_lists)\n",
    "\n",
    "# using the list of prediction lists, use each list as a new row of a dataframe\n",
    "## Life saver ==> https://stackoverflow.com/questions/42202872/how-to-convert-list-to-row-dataframe-with-pandas\n",
    "predictions_df = pd.DataFrame(columns=['State', '2020_prediction', '2021_prediction', \n",
    "                                       '2022_prediction', '2023_prediction', 'R_Squared'], data=list_prediction_lists)\n",
    "\n",
    "\n",
    "predictions_df.head(50)\n"
   ]
  },
  {
   "cell_type": "code",
   "execution_count": null,
   "metadata": {},
   "outputs": [],
   "source": [
    "predictions_df.to_csv(\"../../data/MLR_HousingValues_PopChange_output.csv\")"
   ]
  },
  {
   "cell_type": "code",
   "execution_count": null,
   "metadata": {},
   "outputs": [],
   "source": [
    "# Testing code\n",
    "\n",
    "# from sklearn.model_selection import train_test_split\n",
    "\n",
    "# X_train, X_test, y_train, y_test = train_test_split(X, y, random_state=42)\n",
    "# # from sklearn.linear_model import LinearRegression\n",
    "\n",
    "# x = model_df[[\"Index\", \"Pop_Change\"]]\n",
    "# y = model_df[\"Median_home\"].values.reshape(-1, 1)\n",
    "# print(X.shape, y.shape)\n",
    "\n",
    "# # model = LinearRegression()\n",
    "# # model.fit(x, y)\n",
    "# # score = model.score(x, y)\n",
    "# # predictions = model.predict([[month]])\n",
    "\n",
    "# # print(f\"Score: {score}\")\n",
    "\n",
    "# Plot the Residuals for the Training and Testing data\n",
    "\n",
    "\n",
    "# plt.scatter(model.predict(X_train), model.predict(X_train) - y_train, c=\"blue\", label=\"Training Data\")\n",
    "# plt.scatter(model.predict(X_test), model.predict(X_test) - y_test, c=\"orange\", label=\"Testing Data\")\n",
    "# plt.legend()\n",
    "# plt.hlines(y=0, xmin=y.min(), xmax=y.max())\n",
    "# plt.title(\"Residual Plot\")\n"
   ]
  }
 ],
 "metadata": {
  "kernelspec": {
   "display_name": "PythonData",
   "language": "python",
   "name": "myenv"
  },
  "language_info": {
   "codemirror_mode": {
    "name": "ipython",
    "version": 3
   },
   "file_extension": ".py",
   "mimetype": "text/x-python",
   "name": "python",
   "nbconvert_exporter": "python",
   "pygments_lexer": "ipython3",
   "version": "3.7.6"
  }
 },
 "nbformat": 4,
 "nbformat_minor": 4
}
